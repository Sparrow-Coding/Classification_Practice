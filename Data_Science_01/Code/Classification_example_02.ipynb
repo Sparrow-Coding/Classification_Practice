{
 "cells": [
  {
   "cell_type": "code",
   "execution_count": 1,
   "id": "737019d1-e6d7-4d34-90ea-3edf4a842cc4",
   "metadata": {},
   "outputs": [],
   "source": [
    "import pandas as pd\n",
    "import matplotlib.pyplot as plt\n",
    "import numpy as np\n",
    "import seaborn as sns"
   ]
  },
  {
   "cell_type": "code",
   "execution_count": 2,
   "id": "b5582bff-aeab-4282-b478-f7da90c6cb64",
   "metadata": {},
   "outputs": [
    {
     "data": {
      "text/html": [
       "<div>\n",
       "<style scoped>\n",
       "    .dataframe tbody tr th:only-of-type {\n",
       "        vertical-align: middle;\n",
       "    }\n",
       "\n",
       "    .dataframe tbody tr th {\n",
       "        vertical-align: top;\n",
       "    }\n",
       "\n",
       "    .dataframe thead th {\n",
       "        text-align: right;\n",
       "    }\n",
       "</style>\n",
       "<table border=\"1\" class=\"dataframe\">\n",
       "  <thead>\n",
       "    <tr style=\"text-align: right;\">\n",
       "      <th></th>\n",
       "      <th>Favorite Color</th>\n",
       "      <th>Favorite Music Genre</th>\n",
       "      <th>Favorite Beverage</th>\n",
       "      <th>Favorite Soft Drink</th>\n",
       "      <th>Gender</th>\n",
       "    </tr>\n",
       "  </thead>\n",
       "  <tbody>\n",
       "    <tr>\n",
       "      <th>0</th>\n",
       "      <td>Cool</td>\n",
       "      <td>Rock</td>\n",
       "      <td>Vodka</td>\n",
       "      <td>7UP/Sprite</td>\n",
       "      <td>F</td>\n",
       "    </tr>\n",
       "    <tr>\n",
       "      <th>1</th>\n",
       "      <td>Neutral</td>\n",
       "      <td>Hip hop</td>\n",
       "      <td>Vodka</td>\n",
       "      <td>Coca Cola/Pepsi</td>\n",
       "      <td>F</td>\n",
       "    </tr>\n",
       "    <tr>\n",
       "      <th>2</th>\n",
       "      <td>Warm</td>\n",
       "      <td>Rock</td>\n",
       "      <td>Wine</td>\n",
       "      <td>Coca Cola/Pepsi</td>\n",
       "      <td>F</td>\n",
       "    </tr>\n",
       "    <tr>\n",
       "      <th>3</th>\n",
       "      <td>Warm</td>\n",
       "      <td>Folk/Traditional</td>\n",
       "      <td>Whiskey</td>\n",
       "      <td>Fanta</td>\n",
       "      <td>F</td>\n",
       "    </tr>\n",
       "    <tr>\n",
       "      <th>4</th>\n",
       "      <td>Cool</td>\n",
       "      <td>Rock</td>\n",
       "      <td>Vodka</td>\n",
       "      <td>Coca Cola/Pepsi</td>\n",
       "      <td>F</td>\n",
       "    </tr>\n",
       "  </tbody>\n",
       "</table>\n",
       "</div>"
      ],
      "text/plain": [
       "  Favorite Color Favorite Music Genre Favorite Beverage Favorite Soft Drink  \\\n",
       "0           Cool                 Rock             Vodka          7UP/Sprite   \n",
       "1        Neutral              Hip hop             Vodka     Coca Cola/Pepsi   \n",
       "2           Warm                 Rock              Wine     Coca Cola/Pepsi   \n",
       "3           Warm     Folk/Traditional           Whiskey               Fanta   \n",
       "4           Cool                 Rock             Vodka     Coca Cola/Pepsi   \n",
       "\n",
       "  Gender  \n",
       "0      F  \n",
       "1      F  \n",
       "2      F  \n",
       "3      F  \n",
       "4      F  "
      ]
     },
     "execution_count": 2,
     "metadata": {},
     "output_type": "execute_result"
    }
   ],
   "source": [
    "df = pd.read_csv('Data/Transformed Data Set - Sheet1.csv')\n",
    "df.head()"
   ]
  },
  {
   "cell_type": "code",
   "execution_count": 3,
   "id": "94e7af84-17c5-43e1-8892-ffbc5344eda3",
   "metadata": {},
   "outputs": [
    {
     "data": {
      "text/plain": [
       "Favorite Color          0\n",
       "Favorite Music Genre    0\n",
       "Favorite Beverage       0\n",
       "Favorite Soft Drink     0\n",
       "Gender                  0\n",
       "dtype: int64"
      ]
     },
     "execution_count": 3,
     "metadata": {},
     "output_type": "execute_result"
    }
   ],
   "source": [
    "df.isna().sum()"
   ]
  },
  {
   "cell_type": "code",
   "execution_count": 4,
   "id": "c49d9d4d-f19d-4789-89e4-cc37c4ef0a3f",
   "metadata": {},
   "outputs": [
    {
     "data": {
      "text/plain": [
       "Favorite Color          object\n",
       "Favorite Music Genre    object\n",
       "Favorite Beverage       object\n",
       "Favorite Soft Drink     object\n",
       "Gender                  object\n",
       "dtype: object"
      ]
     },
     "execution_count": 4,
     "metadata": {},
     "output_type": "execute_result"
    }
   ],
   "source": [
    "df.dtypes"
   ]
  },
  {
   "cell_type": "code",
   "execution_count": 5,
   "id": "14c6b463-1dc7-4ce9-835d-7e892f837721",
   "metadata": {},
   "outputs": [
    {
     "data": {
      "text/plain": [
       "Index(['Favorite Color', 'Favorite Music Genre', 'Favorite Beverage',\n",
       "       'Favorite Soft Drink', 'Gender'],\n",
       "      dtype='object')"
      ]
     },
     "execution_count": 5,
     "metadata": {},
     "output_type": "execute_result"
    }
   ],
   "source": [
    "df.columns"
   ]
  },
  {
   "cell_type": "markdown",
   "id": "4b750ad0-347a-4c62-9276-460e97f9b619",
   "metadata": {},
   "source": [
    "# Favorite Color"
   ]
  },
  {
   "cell_type": "code",
   "execution_count": 6,
   "id": "0797c995-a0f6-4b4b-9f1a-2651fe043495",
   "metadata": {},
   "outputs": [
    {
     "data": {
      "text/plain": [
       "Cool       37\n",
       "Warm       22\n",
       "Neutral     7\n",
       "Name: Favorite Color, dtype: int64"
      ]
     },
     "execution_count": 6,
     "metadata": {},
     "output_type": "execute_result"
    }
   ],
   "source": [
    "df['Favorite Color'].value_counts()"
   ]
  },
  {
   "cell_type": "code",
   "execution_count": 7,
   "id": "8eb7d98e-8732-4559-abc0-1d642ab97d4e",
   "metadata": {},
   "outputs": [],
   "source": [
    "df['Favorite Color'].replace({'Cool':0,'Warm':1,'Neutral':2},inplace=True)"
   ]
  },
  {
   "cell_type": "code",
   "execution_count": 8,
   "id": "952926b7-f69e-4e40-88be-819892e9f659",
   "metadata": {},
   "outputs": [
    {
     "data": {
      "text/plain": [
       "0    37\n",
       "1    22\n",
       "2     7\n",
       "Name: Favorite Color, dtype: int64"
      ]
     },
     "execution_count": 8,
     "metadata": {},
     "output_type": "execute_result"
    }
   ],
   "source": [
    "df['Favorite Color'].value_counts()"
   ]
  },
  {
   "cell_type": "markdown",
   "id": "06712126-4f89-4c4b-b61e-39b4b27b9191",
   "metadata": {},
   "source": [
    "# Favorite Music Genre"
   ]
  },
  {
   "cell_type": "code",
   "execution_count": 9,
   "id": "02e6b7f1-c535-4996-9c50-6c8c15bf1954",
   "metadata": {},
   "outputs": [
    {
     "data": {
      "text/plain": [
       "Rock                19\n",
       "Pop                 17\n",
       "Hip hop              8\n",
       "Electronic           8\n",
       "R&B and soul         6\n",
       "Folk/Traditional     4\n",
       "Jazz/Blues           4\n",
       "Name: Favorite Music Genre, dtype: int64"
      ]
     },
     "execution_count": 9,
     "metadata": {},
     "output_type": "execute_result"
    }
   ],
   "source": [
    "df['Favorite Music Genre'].value_counts()"
   ]
  },
  {
   "cell_type": "code",
   "execution_count": 10,
   "id": "bb4c318a-f961-4ab9-ac23-5a52c35ddfba",
   "metadata": {},
   "outputs": [],
   "source": [
    "df['Favorite Music Genre'].replace({'Rock':0, 'Pop':1, 'Hip hop':2, 'Electronic':3, 'R&B and soul':4, 'Folk/Traditional':5, 'Jazz/Blues':6},inplace=True)"
   ]
  },
  {
   "cell_type": "code",
   "execution_count": 11,
   "id": "78eb08fa-1bb6-4dbb-bf8b-5ff969ed11ad",
   "metadata": {},
   "outputs": [
    {
     "data": {
      "text/plain": [
       "0    19\n",
       "1    17\n",
       "2     8\n",
       "3     8\n",
       "4     6\n",
       "5     4\n",
       "6     4\n",
       "Name: Favorite Music Genre, dtype: int64"
      ]
     },
     "execution_count": 11,
     "metadata": {},
     "output_type": "execute_result"
    }
   ],
   "source": [
    "df['Favorite Music Genre'].value_counts()"
   ]
  },
  {
   "cell_type": "markdown",
   "id": "fef90bdd-653d-4f70-b42f-311ab95b0e4e",
   "metadata": {},
   "source": [
    "# Favorite Beverage"
   ]
  },
  {
   "cell_type": "code",
   "execution_count": 12,
   "id": "89c4fa66-e8ea-4539-949f-5c7904abaa5b",
   "metadata": {},
   "outputs": [
    {
     "data": {
      "text/plain": [
       "Doesn't drink    14\n",
       "Beer             13\n",
       "Other            11\n",
       "Wine             10\n",
       "Vodka             9\n",
       "Whiskey           9\n",
       "Name: Favorite Beverage, dtype: int64"
      ]
     },
     "execution_count": 12,
     "metadata": {},
     "output_type": "execute_result"
    }
   ],
   "source": [
    "df['Favorite Beverage'].value_counts()"
   ]
  },
  {
   "cell_type": "code",
   "execution_count": 13,
   "id": "b8d8b1ff-b8d3-4eb1-9e60-cac52b399b82",
   "metadata": {},
   "outputs": [],
   "source": [
    "df['Favorite Beverage'].replace({\"Doesn't drink\":0, 'Beer':1, 'Other':2, 'Wine':3, 'Vodka':4, 'Whiskey':5},inplace=True)"
   ]
  },
  {
   "cell_type": "code",
   "execution_count": 14,
   "id": "08f2d98d-3311-4c2a-a869-a32c325c158a",
   "metadata": {},
   "outputs": [
    {
     "data": {
      "text/plain": [
       "0    14\n",
       "1    13\n",
       "2    11\n",
       "3    10\n",
       "4     9\n",
       "5     9\n",
       "Name: Favorite Beverage, dtype: int64"
      ]
     },
     "execution_count": 14,
     "metadata": {},
     "output_type": "execute_result"
    }
   ],
   "source": [
    "df['Favorite Beverage'].value_counts()"
   ]
  },
  {
   "cell_type": "markdown",
   "id": "cece1a15-0138-4ac2-b86b-38cf97818125",
   "metadata": {},
   "source": [
    "# Favorite Soft Drink"
   ]
  },
  {
   "cell_type": "code",
   "execution_count": 15,
   "id": "55f4ec19-656d-4324-a90e-cf2ed6a50141",
   "metadata": {},
   "outputs": [
    {
     "data": {
      "text/plain": [
       "Coca Cola/Pepsi    32\n",
       "Fanta              14\n",
       "7UP/Sprite         13\n",
       "Other               7\n",
       "Name: Favorite Soft Drink, dtype: int64"
      ]
     },
     "execution_count": 15,
     "metadata": {},
     "output_type": "execute_result"
    }
   ],
   "source": [
    "df['Favorite Soft Drink'].value_counts()"
   ]
  },
  {
   "cell_type": "code",
   "execution_count": 16,
   "id": "6af7702e-e0b5-428d-905c-215ca961cd18",
   "metadata": {},
   "outputs": [],
   "source": [
    "df['Favorite Soft Drink'].replace({'Coca Cola/Pepsi':0,'Fanta':1,'7UP/Sprite':2,'Other':3},inplace=True)"
   ]
  },
  {
   "cell_type": "code",
   "execution_count": 17,
   "id": "2ebcc3e9-60c3-49a5-a3f1-b0ec0edd9e2a",
   "metadata": {},
   "outputs": [
    {
     "data": {
      "text/plain": [
       "0    32\n",
       "1    14\n",
       "2    13\n",
       "3     7\n",
       "Name: Favorite Soft Drink, dtype: int64"
      ]
     },
     "execution_count": 17,
     "metadata": {},
     "output_type": "execute_result"
    }
   ],
   "source": [
    "df['Favorite Soft Drink'].value_counts()"
   ]
  },
  {
   "cell_type": "markdown",
   "id": "9f39564b-5cf9-4427-8655-1f4ae4b63992",
   "metadata": {},
   "source": [
    "# Gender"
   ]
  },
  {
   "cell_type": "code",
   "execution_count": 18,
   "id": "e9247f2c-7ea0-4bbd-be6a-0125083e6963",
   "metadata": {},
   "outputs": [
    {
     "data": {
      "text/plain": [
       "F    33\n",
       "M    33\n",
       "Name: Gender, dtype: int64"
      ]
     },
     "execution_count": 18,
     "metadata": {},
     "output_type": "execute_result"
    }
   ],
   "source": [
    "df['Gender'].value_counts()"
   ]
  },
  {
   "cell_type": "code",
   "execution_count": 19,
   "id": "1fbd61b1-f8d2-4252-a47d-65a14ec4c1b9",
   "metadata": {},
   "outputs": [],
   "source": [
    "df['Gender'].replace({'F':0,'M':1},inplace=True)"
   ]
  },
  {
   "cell_type": "code",
   "execution_count": 20,
   "id": "b1a9da51-f802-4c94-a09d-dea6f525b276",
   "metadata": {},
   "outputs": [
    {
     "data": {
      "text/plain": [
       "0    33\n",
       "1    33\n",
       "Name: Gender, dtype: int64"
      ]
     },
     "execution_count": 20,
     "metadata": {},
     "output_type": "execute_result"
    }
   ],
   "source": [
    "df['Gender'].value_counts()"
   ]
  },
  {
   "cell_type": "code",
   "execution_count": 21,
   "id": "c9521497-46b3-45a3-9ac4-5cd7ee923e4b",
   "metadata": {},
   "outputs": [
    {
     "data": {
      "text/plain": [
       "Favorite Color          int64\n",
       "Favorite Music Genre    int64\n",
       "Favorite Beverage       int64\n",
       "Favorite Soft Drink     int64\n",
       "Gender                  int64\n",
       "dtype: object"
      ]
     },
     "execution_count": 21,
     "metadata": {},
     "output_type": "execute_result"
    }
   ],
   "source": [
    "df.dtypes"
   ]
  },
  {
   "cell_type": "code",
   "execution_count": 22,
   "id": "8207f939-3d3a-4fd8-918e-b13e4438ec82",
   "metadata": {},
   "outputs": [
    {
     "name": "stderr",
     "output_type": "stream",
     "text": [
      "C:\\Users\\Sparrow\\anaconda3\\lib\\site-packages\\seaborn\\distributions.py:2619: FutureWarning: `distplot` is a deprecated function and will be removed in a future version. Please adapt your code to use either `displot` (a figure-level function with similar flexibility) or `histplot` (an axes-level function for histograms).\n",
      "  warnings.warn(msg, FutureWarning)\n"
     ]
    },
    {
     "data": {
      "image/png": "[encoded data removed]",
      "text/plain": [
       "<Figure size 432x288 with 1 Axes>"
      ]
     },
     "metadata": {
      "needs_background": "light"
     },
     "output_type": "display_data"
    }
   ],
   "source": [
    "sns.distplot(df['Gender'])\n",
    "plt.title('Gender Displot');"
   ]
  },
  {
   "cell_type": "code",
   "execution_count": 23,
   "id": "5ae66229-d598-4589-ade7-acc8949c3c73",
   "metadata": {},
   "outputs": [
    {
     "name": "stderr",
     "output_type": "stream",
     "text": [
      "C:\\Users\\Sparrow\\anaconda3\\lib\\site-packages\\seaborn\\distributions.py:2619: FutureWarning: `distplot` is a deprecated function and will be removed in a future version. Please adapt your code to use either `displot` (a figure-level function with similar flexibility) or `histplot` (an axes-level function for histograms).\n",
      "  warnings.warn(msg, FutureWarning)\n"
     ]
    },
    {
     "data": {
      "image/png": "[encoded data removed]",
      "text/plain": [
       "<Figure size 432x288 with 1 Axes>"
      ]
     },
     "metadata": {
      "needs_background": "light"
     },
     "output_type": "display_data"
    }
   ],
   "source": [
    "sns.distplot(df['Favorite Soft Drink'])\n",
    "plt.title('Favorite Soft Drink Displot');"
   ]
  },
  {
   "cell_type": "code",
   "execution_count": 24,
   "id": "c4d8f9ba-bbd1-40ce-b8c4-23e640548e51",
   "metadata": {},
   "outputs": [
    {
     "name": "stderr",
     "output_type": "stream",
     "text": [
      "C:\\Users\\Sparrow\\anaconda3\\lib\\site-packages\\seaborn\\distributions.py:2619: FutureWarning: `distplot` is a deprecated function and will be removed in a future version. Please adapt your code to use either `displot` (a figure-level function with similar flexibility) or `histplot` (an axes-level function for histograms).\n",
      "  warnings.warn(msg, FutureWarning)\n"
     ]
    },
    {
     "data": {
      "image/png": "[encoded data removed]",
      "text/plain": [
       "<Figure size 432x288 with 1 Axes>"
      ]
     },
     "metadata": {
      "needs_background": "light"
     },
     "output_type": "display_data"
    }
   ],
   "source": [
    "sns.distplot(df['Favorite Beverage'])\n",
    "plt.title('Favorite Beverage Displot');"
   ]
  },
  {
   "cell_type": "code",
   "execution_count": 25,
   "id": "f49ec0ed-1f10-4389-ac23-24944d914c06",
   "metadata": {},
   "outputs": [
    {
     "name": "stderr",
     "output_type": "stream",
     "text": [
      "C:\\Users\\Sparrow\\anaconda3\\lib\\site-packages\\seaborn\\distributions.py:2619: FutureWarning: `distplot` is a deprecated function and will be removed in a future version. Please adapt your code to use either `displot` (a figure-level function with similar flexibility) or `histplot` (an axes-level function for histograms).\n",
      "  warnings.warn(msg, FutureWarning)\n"
     ]
    },
    {
     "data": {
      "image/png": "[encoded data removed]",
      "text/plain": [
       "<Figure size 432x288 with 1 Axes>"
      ]
     },
     "metadata": {
      "needs_background": "light"
     },
     "output_type": "display_data"
    }
   ],
   "source": [
    "sns.distplot(df['Favorite Color'])\n",
    "plt.title('Favorite Color Displot');"
   ]
  },
  {
   "cell_type": "code",
   "execution_count": 27,
   "id": "ab43f857-ab12-4a65-9858-4819476860cb",
   "metadata": {},
   "outputs": [
    {
     "name": "stderr",
     "output_type": "stream",
     "text": [
      "C:\\Users\\Sparrow\\anaconda3\\lib\\site-packages\\seaborn\\distributions.py:2619: FutureWarning: `distplot` is a deprecated function and will be removed in a future version. Please adapt your code to use either `displot` (a figure-level function with similar flexibility) or `histplot` (an axes-level function for histograms).\n",
      "  warnings.warn(msg, FutureWarning)\n"
     ]
    },
    {
     "data": {
      "image/png": "[encoded data removed]",
      "text/plain": [
       "<Figure size 432x288 with 1 Axes>"
      ]
     },
     "metadata": {
      "needs_background": "light"
     },
     "output_type": "display_data"
    }
   ],
   "source": [
    "sns.distplot(df['Favorite Music Genre'])\n",
    "plt.title('Favorite Music Genre Displot');"
   ]
  },
  {
   "cell_type": "code",
   "execution_count": 33,
   "id": "58f3d969-924f-4846-adb8-74cc2c9756fb",
   "metadata": {},
   "outputs": [
    {
     "data": {
      "image/png": "[encoded data removed]",
      "text/plain": [
       "<Figure size 432x288 with 2 Axes>"
      ]
     },
     "metadata": {
      "needs_background": "light"
     },
     "output_type": "display_data"
    }
   ],
   "source": [
    "sns.heatmap(df.corr(),vmin=-1,vmax=1,annot=True,cmap='bwr');"
   ]
  },
  {
   "cell_type": "code",
   "execution_count": 45,
   "id": "ed779227-a269-4acd-bf20-99e9010d6061",
   "metadata": {},
   "outputs": [],
   "source": [
    "def Classification_Models(X,y,n1=1,n2=13):\n",
    "    \n",
    "    import numpy as np\n",
    "    from matplotlib import pyplot as plt\n",
    "    from sklearn.metrics import accuracy_score, log_loss\n",
    "    from sklearn.linear_model import LogisticRegression, SGDClassifier\n",
    "    from sklearn.neighbors import KNeighborsClassifier\n",
    "    from sklearn.svm import SVC, LinearSVC, NuSVC\n",
    "    from sklearn.tree import DecisionTreeClassifier\n",
    "    from sklearn.ensemble import RandomForestClassifier, AdaBoostClassifier, GradientBoostingClassifier\n",
    "    from sklearn.naive_bayes import GaussianNB, MultinomialNB, BernoulliNB\n",
    "    from sklearn.discriminant_analysis import LinearDiscriminantAnalysis\n",
    "    from sklearn.discriminant_analysis import QuadraticDiscriminantAnalysis\n",
    "    from sklearn.ensemble import BaggingClassifier, RandomForestClassifier\n",
    "    from sklearn.model_selection import train_test_split\n",
    "    from sklearn.preprocessing import StandardScaler\n",
    "    from sklearn.metrics import f1_score\n",
    "   \n",
    "    \n",
    "    sc = StandardScaler()\n",
    "   \n",
    "    X_train, X_test, y_train, y_test = train_test_split(X,y, test_size=.3,random_state=16)\n",
    "    \n",
    "    # K-Nearest Neighbors\n",
    "    neighbors = np.arange(n1, n2)\n",
    "    train_accuracies = {}\n",
    "    test_accuracies = {}\n",
    "    for neighbor in neighbors:\n",
    "        knn = KNeighborsClassifier(n_neighbors=neighbor)\n",
    "        knn.fit(X_train, y_train)\n",
    "        train_accuracies[neighbor] = knn.score(X_train, y_train)\n",
    "        test_accuracies[neighbor] = knn.score(X_test, y_test)\n",
    "    a = pd.Series(train_accuracies,index=neighbors)\n",
    "    b = pd.Series(test_accuracies,index=neighbors)\n",
    "    frame = { 'train_accuracy': a, 'test_accuracy': b }\n",
    "    result = pd.DataFrame(frame)\n",
    "    result = result.reset_index()\n",
    "    result = result.rename(columns={\"index\": \"n-neighbors\"})\n",
    "    print(result)\n",
    "    \n",
    "    # Decision Tree\n",
    "\n",
    "    dtree = DecisionTreeClassifier(max_depth = 10, random_state = 16, max_features = None, min_samples_leaf = 15)\n",
    "    dtree.fit(X_train, y_train)\n",
    "    dtree.score(X_train,y_train)\n",
    "    dtree.score(X_test,y_test)\n",
    "    \n",
    "    # Logistic Regression\n",
    "    logreg = LogisticRegression()\n",
    "    logreg.fit(X_train,y_train)\n",
    "    print('logistic regression train score:',logreg.score(X_train, y_train),'|','logistic regression test score:',logreg.score(X_test, y_test))\n",
    "    \n",
    "    # # Naive_bayes\n",
    "    # nb = GaussianNB()\n",
    "    # nb =nb.fit(X_train,y_train)\n",
    "    # y_probas = nb.predict_proba(X_test)\n",
    "    # skplt.metrics.plot_roc(y_test, y_probas)\n",
    "    # plt.show()\n",
    "    # skplt.metris.plot_precision_recall(y_test, y_probas)\n",
    "    # plt.show()\n",
    "   \n",
    "    \n",
    "    # Bagging Classifier\n",
    "    bc = BaggingClassifier()\n",
    "    bc.fit(X_train,y_train)\n",
    "    print('Bagging Classifier train score:',bc.score(X_train, y_train),'|','Bagging Classifier test score:',bc.score(X_test, y_test))\n",
    "    \n",
    "    # # Random Forest Classifier\n",
    "    # rfc =RandomForestClassifier()\n",
    "    # rfc.fit(X_train,y_train)\n",
    "    # y_pre = rf.predict(X_test)\n",
    "    # skplt.metrics.plot_confusion_matrix(y_test,y_pred,normalize=True)\n",
    "    # plt.show()\n",
    "    # print('Random Forest Classifier train score:',rfc.score(X_train, y_train),'|','Random Forest Classifier test score:',rfc.score(X_test, y_test))\n",
    "    \n",
    "    # Support Vector Classifier\n",
    "    svc = SVC()\n",
    "    svc.fit(X_train,y_train)\n",
    "    print('Support Vector Classifier train score:',svc.score(X_train, y_train),'|','Support Vector Classifier test score:',svc.score(X_test, y_test))\n",
    "    print(' ')\n",
    "    \n",
    "    # f1_score of scaled data\n",
    "    def f_1(model, X_train, X_test, y_train, y_test):\n",
    "        Z_train = sc.fit_transform(X_train)\n",
    "        Z_test = sc.transform(X_test)\n",
    "        model.fit(Z_train,y_train)\n",
    "        f1_train = f1_score(y_true=y_train,y_pred=model.predict(Z_train))\n",
    "        f1_test = f1_score(y_true=y_test,y_pred=model.predict(Z_test))\n",
    "        print('rmse train score of', model , ':', f1_train,'|','rmse test score of', model , ':', f1_test)\n",
    "    f_1(logreg, X_train, X_test, y_train, y_test)\n",
    "    f_1(knn, X_train, X_test, y_train, y_test)  \n",
    "    f_1(dtree, X_train, X_test, y_train, y_test)  \n",
    "    f_1(bc, X_train, X_test, y_train, y_test)  \n",
    "    # f_1(rfc, X_train, X_test, y_train, y_test)    \n",
    "    f_1(svc, X_train, X_test, y_train, y_test)  \n",
    "    "
   ]
  },
  {
   "cell_type": "code",
   "execution_count": 46,
   "id": "d592b532-3280-4800-afa0-78fd1bcdf8f0",
   "metadata": {},
   "outputs": [
    {
     "name": "stdout",
     "output_type": "stream",
     "text": [
      "    n-neighbors  train_accuracy  test_accuracy\n",
      "0             1        0.978261           0.50\n",
      "1             2        0.739130           0.60\n",
      "2             3        0.652174           0.65\n",
      "3             4        0.652174           0.60\n",
      "4             5        0.717391           0.65\n",
      "5             6        0.717391           0.65\n",
      "6             7        0.673913           0.70\n",
      "7             8        0.673913           0.60\n",
      "8             9        0.717391           0.65\n",
      "9            10        0.695652           0.70\n",
      "10           11        0.739130           0.65\n",
      "11           12        0.673913           0.65\n",
      "logistic regression train score: 0.6304347826086957 | logistic regression test score: 0.55\n",
      "Bagging Classifier train score: 0.9565217391304348 | Bagging Classifier test score: 0.6\n",
      "Support Vector Classifier train score: 0.7391304347826086 | Support Vector Classifier test score: 0.6\n",
      " \n",
      "rmse train score of LogisticRegression() : 0.6046511627906976 | rmse test score of LogisticRegression() : 0.5714285714285713\n",
      "rmse train score of KNeighborsClassifier(n_neighbors=12) : 0.5555555555555555 | rmse test score of KNeighborsClassifier(n_neighbors=12) : 0.4285714285714285\n",
      "rmse train score of DecisionTreeClassifier(max_depth=10, min_samples_leaf=15, random_state=16) : 0.6222222222222223 | rmse test score of DecisionTreeClassifier(max_depth=10, min_samples_leaf=15, random_state=16) : 0.6666666666666665\n",
      "rmse train score of BaggingClassifier() : 0.909090909090909 | rmse test score of BaggingClassifier() : 0.5\n",
      "rmse train score of SVC() : 0.782608695652174 | rmse test score of SVC() : 0.5555555555555556\n"
     ]
    }
   ],
   "source": [
    "Classification_Models(df.drop('Gender',axis=1),df['Gender'])"
   ]
  },
  {
   "cell_type": "code",
   "execution_count": null,
   "id": "c0b85b21-cf9d-449b-938b-dce40a2c5e0b",
   "metadata": {},
   "outputs": [],
   "source": []
  }
 ],
 "metadata": {
  "kernelspec": {
   "display_name": "Python 3 (ipykernel)",
   "language": "python",
   "name": "python3"
  },
  "language_info": {
   "codemirror_mode": {
    "name": "ipython",
    "version": 3
   },
   "file_extension": ".py",
   "mimetype": "text/x-python",
   "name": "python",
   "nbconvert_exporter": "python",
   "pygments_lexer": "ipython3",
   "version": "3.9.12"
  }
 },
 "nbformat": 4,
 "nbformat_minor": 5
}
